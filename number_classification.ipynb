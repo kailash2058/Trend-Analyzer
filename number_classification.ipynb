{
  "nbformat": 4,
  "nbformat_minor": 0,
  "metadata": {
    "colab": {
      "provenance": []
    },
    "kernelspec": {
      "name": "python3",
      "display_name": "Python 3"
    },
    "language_info": {
      "name": "python"
    }
  },
  "cells": [
    {
      "cell_type": "markdown",
      "source": [
        "#Author:kailash pantha\n",
        "#Date: 2023-6-27\n",
        "@copyright\n",
        "\n",
        "This is an example code for classification of handwritten digit os MNIST data set using tensorflow, numpy and matplotlib."
      ],
      "metadata": {
        "id": "qpFHt89mIQnk"
      }
    },
    {
      "cell_type": "code",
      "execution_count": 35,
      "metadata": {
        "id": "apkDFhXjKJW8"
      },
      "outputs": [],
      "source": [
        "import tensorflow as tf\n",
        "import numpy as np\n",
        "import matplotlib.pyplot as plt\n",
        "from tensorflow.keras.utils import to_categorical\n",
        "%matplotlib inline\n"
      ]
    },
    {
      "cell_type": "code",
      "source": [
        "from tensorflow.keras.datasets import mnist"
      ],
      "metadata": {
        "id": "2Ad-Iw4_ps3e"
      },
      "execution_count": 36,
      "outputs": []
    },
    {
      "cell_type": "code",
      "source": [
        "(xtrain,ytrain),(xtest,ytest)=mnist.load_data()"
      ],
      "metadata": {
        "id": "HXTZnjqCqFf8"
      },
      "execution_count": 37,
      "outputs": []
    },
    {
      "cell_type": "markdown",
      "source": [],
      "metadata": {
        "id": "ezekl41Xrnv5"
      }
    },
    {
      "cell_type": "markdown",
      "source": [
        "Checking the shape of the training and test dataset after loading the data"
      ],
      "metadata": {
        "id": "wY-wRDRvrqoa"
      }
    },
    {
      "cell_type": "code",
      "source": [
        "print(f'x_train shape',xtrain.shape)\n",
        "print(f'y_train shape',ytrain.shape)\n",
        "print(f'x_test shape',xtest.shape)\n",
        "print(f'y_test shape',ytest.shape)"
      ],
      "metadata": {
        "colab": {
          "base_uri": "https://localhost:8080/"
        },
        "id": "1pJH44liqkYg",
        "outputId": "7f9b54f0-9e7e-42e3-b812-a4ccb896ccca"
      },
      "execution_count": 38,
      "outputs": [
        {
          "output_type": "stream",
          "name": "stdout",
          "text": [
            "x_train shape (60000, 28, 28)\n",
            "y_train shape (60000,)\n",
            "x_test shape (10000, 28, 28)\n",
            "y_test shape (10000,)\n"
          ]
        }
      ]
    },
    {
      "cell_type": "markdown",
      "source": [],
      "metadata": {
        "id": "LvpdLAsnKUbR"
      }
    },
    {
      "cell_type": "code",
      "source": [
        "plt.imshow(xtrain[2])"
      ],
      "metadata": {
        "colab": {
          "base_uri": "https://localhost:8080/",
          "height": 447
        },
        "id": "wAiNL5ZDr7k-",
        "outputId": "84b40b33-0492-4e50-c893-ee3a126c3a31"
      },
      "execution_count": 39,
      "outputs": [
        {
          "output_type": "execute_result",
          "data": {
            "text/plain": [
              "<matplotlib.image.AxesImage at 0x7f9f189451e0>"
            ]
          },
          "metadata": {},
          "execution_count": 39
        },
        {
          "output_type": "display_data",
          "data": {
            "text/plain": [
              "<Figure size 640x480 with 1 Axes>"
            ],
            "image/png": "[encoded data removed]"
          },
          "metadata": {}
        }
      ]
    },
    {
      "cell_type": "code",
      "source": [
        "(ytrain[2])"
      ],
      "metadata": {
        "colab": {
          "base_uri": "https://localhost:8080/"
        },
        "id": "5KwcHjt9sITQ",
        "outputId": "99e8fc44-a887-44e9-ebf8-1bbd6cb446cc"
      },
      "execution_count": 40,
      "outputs": [
        {
          "output_type": "execute_result",
          "data": {
            "text/plain": [
              "4"
            ]
          },
          "metadata": {},
          "execution_count": 40
        }
      ]
    },
    {
      "cell_type": "markdown",
      "source": [
        "here output is in the form of integer so we need to convet it into binary form\n"
      ],
      "metadata": {
        "id": "912TyX7izuVU"
      }
    },
    {
      "cell_type": "markdown",
      "source": [
        "set() method is used to convert any of the iterable to sequence of iterable elements with distinct elements, commonly called Set."
      ],
      "metadata": {
        "id": "fHpnl92Ixs92"
      }
    },
    {
      "cell_type": "code",
      "source": [
        "set(ytrain)"
      ],
      "metadata": {
        "colab": {
          "base_uri": "https://localhost:8080/"
        },
        "id": "K5fuDJE4uJSs",
        "outputId": "06ea7ce9-7269-4fe2-b2f0-0bc96894eba3"
      },
      "execution_count": 41,
      "outputs": [
        {
          "output_type": "execute_result",
          "data": {
            "text/plain": [
              "{0, 1, 2, 3, 4, 5, 6, 7, 8, 9}"
            ]
          },
          "metadata": {},
          "execution_count": 41
        }
      ]
    },
    {
      "cell_type": "markdown",
      "source": [
        "to_categorical function. Converts a class vector (integers) to binary class matrix"
      ],
      "metadata": {
        "id": "EeZFQucjyiR3"
      }
    },
    {
      "cell_type": "code",
      "source": [
        "y_train_enc=to_categorical(ytrain)\n",
        "y_test_enc=to_categorical(ytest)\n",
        "print(f'ytrain enc ex {y_train_enc[5]} for ytrain: {ytrain[5]}')\n",
        "print(f'ytest enc ex {y_test_enc[5]} for ytest: {ytrain[5]}')"
      ],
      "metadata": {
        "colab": {
          "base_uri": "https://localhost:8080/"
        },
        "id": "JKvwQjC0yHtp",
        "outputId": "24d95726-29e3-4e8b-9ead-efb1d29a59e6"
      },
      "execution_count": 42,
      "outputs": [
        {
          "output_type": "stream",
          "name": "stdout",
          "text": [
            "ytrain enc ex [0. 0. 1. 0. 0. 0. 0. 0. 0. 0.] for ytrain: 2\n",
            "ytest enc ex [0. 1. 0. 0. 0. 0. 0. 0. 0. 0.] for ytest: 2\n"
          ]
        }
      ]
    },
    {
      "cell_type": "markdown",
      "source": [
        "now Flattening the given 28*28 grayscale image to vector"
      ],
      "metadata": {
        "id": "WBiok7I00tEX"
      }
    },
    {
      "cell_type": "code",
      "source": [
        "x_train_reshape= np.reshape(xtrain,(60000,784))\n",
        "x_test_reshape= np.reshape(xtest,(10000,784))\n"
      ],
      "metadata": {
        "id": "u85FL4nj0CzM"
      },
      "execution_count": 43,
      "outputs": []
    },
    {
      "cell_type": "code",
      "source": [
        "x_train_reshape.shape"
      ],
      "metadata": {
        "colab": {
          "base_uri": "https://localhost:8080/"
        },
        "id": "tM9FQhHO0GIx",
        "outputId": "d61c169b-597f-41e0-ee9e-b1e796d73130"
      },
      "execution_count": 44,
      "outputs": [
        {
          "output_type": "execute_result",
          "data": {
            "text/plain": [
              "(60000, 784)"
            ]
          },
          "metadata": {},
          "execution_count": 44
        }
      ]
    },
    {
      "cell_type": "code",
      "source": [
        "print(set(x_train_reshape[5]))"
      ],
      "metadata": {
        "colab": {
          "base_uri": "https://localhost:8080/"
        },
        "id": "o_Zoz0Ly0DWd",
        "outputId": "4ca62f26-caf4-450a-f02d-2ef1bc804a8f"
      },
      "execution_count": 45,
      "outputs": [
        {
          "output_type": "stream",
          "name": "stdout",
          "text": [
            "{0, 3, 4, 5, 6, 7, 10, 13, 14, 15, 16, 17, 18, 21, 22, 23, 25, 26, 29, 30, 31, 33, 35, 36, 37, 40, 49, 53, 54, 58, 59, 60, 65, 66, 72, 73, 77, 78, 87, 88, 89, 93, 96, 100, 105, 106, 110, 116, 117, 121, 122, 124, 125, 126, 128, 129, 135, 136, 143, 146, 151, 152, 157, 163, 167, 170, 173, 178, 179, 180, 181, 184, 194, 200, 202, 203, 205, 207, 208, 211, 216, 217, 220, 223, 224, 227, 228, 231, 232, 239, 241, 242, 243, 244, 245, 247, 252, 253, 255}\n"
          ]
        }
      ]
    },
    {
      "cell_type": "markdown",
      "source": [
        "Normalizing the pixel values"
      ],
      "metadata": {
        "id": "RYRLOzwr1UuU"
      }
    },
    {
      "cell_type": "code",
      "source": [
        "x_mean=np.mean(x_train_reshape)\n",
        "x_std=np.std(x_train_reshape)\n",
        "\n",
        "x_train_norm=(x_train_reshape-x_mean)/(x_std)\n",
        "x_test_norm=(x_test_reshape-x_mean)/(x_std)"
      ],
      "metadata": {
        "id": "CBtRYg700ENm"
      },
      "execution_count": 46,
      "outputs": []
    },
    {
      "cell_type": "code",
      "source": [
        "print(set(x_train_norm[5]))"
      ],
      "metadata": {
        "colab": {
          "base_uri": "https://localhost:8080/"
        },
        "id": "JnaA062k0Ejl",
        "outputId": "fee928d9-ad7c-4130-c45d-8611fd7bddcf"
      },
      "execution_count": 47,
      "outputs": [
        {
          "output_type": "stream",
          "name": "stdout",
          "text": [
            "{0.8487171801499638, 1.1287312165491004, 1.497840628166144, 2.223331540654816, 2.783359613453089, 1.4342010744390676, 2.681536327489767, 2.7960875241985046, 2.261515272891062, 2.337882737363554, 1.8542221290377725, 2.821543345689335, 2.6560805059989363, 1.2178265917670075, 2.18514780841857, 1.0523637520766087, -0.10587612575618353, 1.879677950528603, 2.0451407902190017, 2.516073487799368, 0.03413089244338476, -0.19497150097409063, -0.2458831439557518, 1.574208092638636, 1.7396709323290347, 2.3760664695997997, 2.210603629909401, 0.08504253542504596, -0.05496448277452233, -0.424073894391566, -0.3349785191736589, 0.41596821480584373, -0.14405985799242943, 0.49233567927833555, -0.37316225140990483, 1.2941940562394993, -0.004052839792861136, 1.154187038039931, 2.426978112581461, 2.1215082546914936, 0.683254340459565, 1.6505755571111276, -0.23315523321033652, 0.04685880318880006, -0.09314821501076823, 1.1796428595307615, 2.6178967737626904, 1.5105685389115593, -0.042236572029107036, -0.3858901621553201, 2.1469640761823245, 2.477889755563122, 2.643352595253521, 0.40324030406042843, 1.2050986810215922, 1.8414942182923573, 0.32687283958793667, -0.36043434066448954, 0.7978055371683027, 0.5559752330054121, 0.5687031437508273, 0.9123567338770403, 0.6959822512049804, 0.7087101619503956, 0.7596218049320568, -0.13133194724701414, 0.26323328586086014, 1.701487200092789, 1.065091662822024, 1.8669500397831877, 1.3960173422028217, 2.6688084167443518, 0.9250846446224557, -0.22042732246492122, 0.19959373213378365, 2.5288013985447835, 2.6942642382351822, 0.3141449288425213, 1.1160033058036851, 1.917861682764849, 2.7197200597260127, -0.029508661283691735, -0.15678776873784472, -0.25861105470116713, 0.33960075033335196, -0.34770642991907424, 0.9759962876041168, 0.25050537511544485, 1.7778546645652806, 2.4142502018360457, -0.296794786937413, 0.5050635900237508, 1.3069219669849146, 0.02140298169796946, 1.1669149487853463, -0.20769941171950593, 2.4651618448177066, 2.3251548266181383, 2.1596919869277396}\n"
          ]
        }
      ]
    },
    {
      "cell_type": "markdown",
      "source": [
        "Creating model"
      ],
      "metadata": {
        "id": "tv8PiB3n5jBn"
      }
    },
    {
      "cell_type": "code",
      "source": [
        "from tensorflow.keras.models import Sequential\n",
        "from tensorflow.keras.layers import Dense"
      ],
      "metadata": {
        "id": "Sy2E9V7a5hqR"
      },
      "execution_count": 48,
      "outputs": []
    },
    {
      "cell_type": "code",
      "source": [
        "model=Sequential(\n",
        "    [\n",
        "        Dense(units=128,activation='relu',input_shape=(784,)),\n",
        "        Dense(units=128,activation='relu'),\n",
        "        Dense(units=10,activation='softmax')\n",
        "\n",
        "    ]\n",
        ")"
      ],
      "metadata": {
        "id": "fHNWW9H_53wV"
      },
      "execution_count": 49,
      "outputs": []
    },
    {
      "cell_type": "code",
      "source": [
        "model.compile(\n",
        "    optimizer='sgd',\n",
        "    loss = 'categorical_crossentropy',\n",
        "    metrics=['accuracy']\n",
        ")\n",
        "model.summary()"
      ],
      "metadata": {
        "colab": {
          "base_uri": "https://localhost:8080/"
        },
        "id": "L_dx7Gl-6uaX",
        "outputId": "95318a6e-09cb-4928-c298-c485641bf666"
      },
      "execution_count": 53,
      "outputs": [
        {
          "output_type": "stream",
          "name": "stdout",
          "text": [
            "Model: \"sequential_1\"\n",
            "_________________________________________________________________\n",
            " Layer (type)                Output Shape              Param #   \n",
            "=================================================================\n",
            " dense_3 (Dense)             (None, 128)               100480    \n",
            "                                                                 \n",
            " dense_4 (Dense)             (None, 128)               16512     \n",
            "                                                                 \n",
            " dense_5 (Dense)             (None, 10)                1290      \n",
            "                                                                 \n",
            "=================================================================\n",
            "Total params: 118,282\n",
            "Trainable params: 118,282\n",
            "Non-trainable params: 0\n",
            "_________________________________________________________________\n"
          ]
        }
      ]
    },
    {
      "cell_type": "code",
      "source": [
        "model.fit(x_train_norm, y_train_enc, epochs=4)"
      ],
      "metadata": {
        "colab": {
          "base_uri": "https://localhost:8080/"
        },
        "id": "P-bLuuMH8TrN",
        "outputId": "65b44cf9-313f-4315-ceb6-d3b53bb4fbf6"
      },
      "execution_count": 54,
      "outputs": [
        {
          "output_type": "stream",
          "name": "stdout",
          "text": [
            "Epoch 1/4\n",
            "1875/1875 [==============================] - 4s 2ms/step - loss: 0.3692 - accuracy: 0.8920\n",
            "Epoch 2/4\n",
            "1875/1875 [==============================] - 3s 2ms/step - loss: 0.1829 - accuracy: 0.9465\n",
            "Epoch 3/4\n",
            "1875/1875 [==============================] - 3s 2ms/step - loss: 0.1404 - accuracy: 0.9591\n",
            "Epoch 4/4\n",
            "1875/1875 [==============================] - 3s 2ms/step - loss: 0.1144 - accuracy: 0.9665\n"
          ]
        },
        {
          "output_type": "execute_result",
          "data": {
            "text/plain": [
              "<keras.callbacks.History at 0x7f9f0ae81e40>"
            ]
          },
          "metadata": {},
          "execution_count": 54
        }
      ]
    },
    {
      "cell_type": "markdown",
      "source": [
        "Evaluation of model"
      ],
      "metadata": {
        "id": "PYb6A-RiGhFR"
      }
    },
    {
      "cell_type": "code",
      "source": [
        "loss,accuracy=model.evaluate(x_test_norm, y_test_enc)"
      ],
      "metadata": {
        "colab": {
          "base_uri": "https://localhost:8080/"
        },
        "id": "0jVarmD9GH4D",
        "outputId": "d1eb1c11-0de4-417d-d585-f6b03fd6c8f8"
      },
      "execution_count": 55,
      "outputs": [
        {
          "output_type": "stream",
          "name": "stdout",
          "text": [
            "313/313 [==============================] - 0s 1ms/step - loss: 0.1195 - accuracy: 0.9629\n"
          ]
        }
      ]
    },
    {
      "cell_type": "code",
      "source": [
        "preds=model.predict(x_test_norm)"
      ],
      "metadata": {
        "colab": {
          "base_uri": "https://localhost:8080/"
        },
        "id": "hIzS47e2Gmay",
        "outputId": "85125de0-493f-4964-94db-be971646c2f8"
      },
      "execution_count": 62,
      "outputs": [
        {
          "output_type": "stream",
          "name": "stdout",
          "text": [
            "313/313 [==============================] - 0s 1ms/step\n"
          ]
        }
      ]
    },
    {
      "cell_type": "code",
      "source": [
        "preds.shape"
      ],
      "metadata": {
        "colab": {
          "base_uri": "https://localhost:8080/"
        },
        "id": "5n7pFurpGvSC",
        "outputId": "2f9927d4-fda3-4cd6-9ae4-31cc6aed2e30"
      },
      "execution_count": 63,
      "outputs": [
        {
          "output_type": "execute_result",
          "data": {
            "text/plain": [
              "(10000, 10)"
            ]
          },
          "metadata": {},
          "execution_count": 63
        }
      ]
    },
    {
      "cell_type": "code",
      "source": [
        "plt.figure(figsize=(12,12))\n",
        "\n",
        "start_loc = 230\n",
        "for i in range(25):\n",
        "  plt.subplot(5,5,i+1)\n",
        "  plt.grid(False)\n",
        "  plt.xticks([])\n",
        "  plt.yticks([])\n",
        "\n",
        "  pred = np.argmax(preds[start_loc+i])\n",
        "  gt = ytest[start_loc+i]\n",
        "\n",
        "  color = 'green'\n",
        "  if pred != gt:\n",
        "    color = 'red'\n",
        "\n",
        "  plt.xlabel(f'i={start_loc+i} pred={pred} gt={gt}', color=color)\n",
        "  plt.imshow(xtest[start_loc+i])\n",
        "plt.show()"
      ],
      "metadata": {
        "colab": {
          "base_uri": "https://localhost:8080/",
          "height": 980
        },
        "id": "83RjLQZFG2K1",
        "outputId": "f0f483ff-668e-4a5b-c6dc-d4626012d61d"
      },
      "execution_count": 71,
      "outputs": [
        {
          "output_type": "display_data",
          "data": {
            "text/plain": [
              "<Figure size 1200x1200 with 25 Axes>"
            ],
            "image/png": "[encoded data removed]"
          },
          "metadata": {}
        }
      ]
    }
  ]
}